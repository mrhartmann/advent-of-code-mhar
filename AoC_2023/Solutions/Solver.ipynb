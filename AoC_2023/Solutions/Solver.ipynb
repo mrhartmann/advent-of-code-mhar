{
 "cells": [
  {
   "cell_type": "code",
   "execution_count": 13,
   "metadata": {},
   "outputs": [],
   "source": [
    "import re"
   ]
  },
  {
   "cell_type": "code",
   "execution_count": 4,
   "metadata": {},
   "outputs": [],
   "source": [
    "# --- Day 1: Trebuchet?! --- Part 1:\n",
    "sum = 0\n",
    "with open(\"data/day1.txt\", \"r\") as file:\n",
    "    for line in file:\n",
    "        digits = [c for c in line.strip() if c.isnumeric()] \n",
    "        sum += int(digits[0]+digits[-1])"
   ]
  },
  {
   "cell_type": "code",
   "execution_count": 35,
   "metadata": {},
   "outputs": [
    {
     "data": {
      "text/plain": [
       "'1'"
      ]
     },
     "execution_count": 35,
     "metadata": {},
     "output_type": "execute_result"
    }
   ],
   "source": [
    "word_to_digit_map = {'zero': '0',\n",
    " 'one': '1',\n",
    " 'two': '2',\n",
    " 'three': '3',\n",
    " 'four': '4',\n",
    " 'five': '5',\n",
    " 'six': '6',\n",
    " 'seven': '7',\n",
    " 'eight': '8',\n",
    " 'nine': '9'}\n",
    "word_to_digit_map[\"one\"]"
   ]
  },
  {
   "cell_type": "code",
   "execution_count": 50,
   "metadata": {},
   "outputs": [],
   "source": [
    "ex_test = \"\"\"two1nine\n",
    "eightwothree\n",
    "abcone2threexyz\n",
    "xtwone3four\n",
    "4nineeightseven2\n",
    "zoneight234\n",
    "7pqrstsixteen\"\"\"\n",
    "lines = ex_test.split(\"\\n\")\n",
    "\n",
    "sum=0\n",
    "for string in lines:\n",
    "    # print(string)\n",
    "    line_digits = []\n",
    "    for pattern, digit in word_to_digit_map.items():\n",
    "        if pattern in string:\n",
    "            line_digits.extend([(m.start(), digit) for m in re.finditer(pattern, string)])\n",
    "\n",
    "    line_digits.extend([(i, c) for i, c in enumerate(string) if c.isnumeric()])\n",
    "    line_digits.sort(key=lambda x: x[0])\n",
    "    # print(line_digits)\n",
    "    # print(int(line_digits[0][1]+line_digits[-1][1]))\n",
    "    sum += int(line_digits[0][1]+line_digits[-1][1])\n",
    "\n"
   ]
  },
  {
   "cell_type": "code",
   "execution_count": 58,
   "metadata": {},
   "outputs": [],
   "source": [
    "# Part 2:\n",
    "sum = 0\n",
    "with open(\"data/day1.txt\", \"r\") as file:\n",
    "    for string in file:\n",
    "        \n",
    "        line_digits = []\n",
    "        for pattern, digit in word_to_digit_map.items():\n",
    "            if pattern in string:\n",
    "                line_digits.extend([(m.start(), digit) for m in re.finditer(pattern, string)])\n",
    "\n",
    "        line_digits.extend([(i, c) for i, c in enumerate(string) if c.isnumeric()])\n",
    "        line_digits.sort(key=lambda x: x[0])\n",
    "        # print(string, line_digits, \"\\n\", int(line_digits[0][1]+line_digits[-1][1]), \"\\n\")\n",
    "        sum += int(line_digits[0][1]+line_digits[-1][1])"
   ]
  },
  {
   "cell_type": "code",
   "execution_count": 59,
   "metadata": {},
   "outputs": [
    {
     "data": {
      "text/plain": [
       "55218"
      ]
     },
     "execution_count": 59,
     "metadata": {},
     "output_type": "execute_result"
    }
   ],
   "source": [
    "sum"
   ]
  }
 ],
 "metadata": {
  "kernelspec": {
   "display_name": "Python 3",
   "language": "python",
   "name": "python3"
  },
  "language_info": {
   "codemirror_mode": {
    "name": "ipython",
    "version": 3
   },
   "file_extension": ".py",
   "mimetype": "text/x-python",
   "name": "python",
   "nbconvert_exporter": "python",
   "pygments_lexer": "ipython3",
   "version": "3.9.18"
  }
 },
 "nbformat": 4,
 "nbformat_minor": 2
}
